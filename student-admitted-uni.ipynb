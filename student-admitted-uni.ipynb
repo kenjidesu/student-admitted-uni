{
 "cells": [
  {
   "cell_type": "markdown",
   "id": "b8b7d93f",
   "metadata": {},
   "source": [
    "- Load the Data [DONE]\n",
    "- Visualize the Data [DONE]\n",
    "- Warmup Sigmoid Function [DONE]\n",
    "- Compute cost function [DONE]\n",
    "- Compute gradient descent [DONE]\n"
   ]
  },
  {
   "cell_type": "code",
   "execution_count": 256,
   "id": "ede6d244",
   "metadata": {},
   "outputs": [],
   "source": [
    "import numpy as np\n",
    "import pandas as pd\n",
    "import matplotlib.pyplot as plt\n",
    "%matplotlib inline"
   ]
  },
  {
   "cell_type": "code",
   "execution_count": 257,
   "id": "7943f880",
   "metadata": {
    "scrolled": true
   },
   "outputs": [
    {
     "data": {
      "text/html": [
       "<div>\n",
       "<style scoped>\n",
       "    .dataframe tbody tr th:only-of-type {\n",
       "        vertical-align: middle;\n",
       "    }\n",
       "\n",
       "    .dataframe tbody tr th {\n",
       "        vertical-align: top;\n",
       "    }\n",
       "\n",
       "    .dataframe thead th {\n",
       "        text-align: right;\n",
       "    }\n",
       "</style>\n",
       "<table border=\"1\" class=\"dataframe\">\n",
       "  <thead>\n",
       "    <tr style=\"text-align: right;\">\n",
       "      <th></th>\n",
       "      <th>0</th>\n",
       "      <th>1</th>\n",
       "      <th>2</th>\n",
       "    </tr>\n",
       "  </thead>\n",
       "  <tbody>\n",
       "    <tr>\n",
       "      <th>0</th>\n",
       "      <td>34.623660</td>\n",
       "      <td>78.024693</td>\n",
       "      <td>0</td>\n",
       "    </tr>\n",
       "    <tr>\n",
       "      <th>1</th>\n",
       "      <td>30.286711</td>\n",
       "      <td>43.894998</td>\n",
       "      <td>0</td>\n",
       "    </tr>\n",
       "    <tr>\n",
       "      <th>2</th>\n",
       "      <td>35.847409</td>\n",
       "      <td>72.902198</td>\n",
       "      <td>0</td>\n",
       "    </tr>\n",
       "    <tr>\n",
       "      <th>3</th>\n",
       "      <td>60.182599</td>\n",
       "      <td>86.308552</td>\n",
       "      <td>1</td>\n",
       "    </tr>\n",
       "    <tr>\n",
       "      <th>4</th>\n",
       "      <td>79.032736</td>\n",
       "      <td>75.344376</td>\n",
       "      <td>1</td>\n",
       "    </tr>\n",
       "  </tbody>\n",
       "</table>\n",
       "</div>"
      ],
      "text/plain": [
       "           0          1  2\n",
       "0  34.623660  78.024693  0\n",
       "1  30.286711  43.894998  0\n",
       "2  35.847409  72.902198  0\n",
       "3  60.182599  86.308552  1\n",
       "4  79.032736  75.344376  1"
      ]
     },
     "execution_count": 257,
     "metadata": {},
     "output_type": "execute_result"
    }
   ],
   "source": [
    "# Load Data\n",
    "data = pd.read_csv('data1.txt', header=None)\n",
    "X = data.iloc[:, [0, 1]]\n",
    "y = data.iloc[:, [2]]\n",
    "\n",
    "data.head()"
   ]
  },
  {
   "cell_type": "code",
   "execution_count": 258,
   "id": "fc1539b9",
   "metadata": {},
   "outputs": [
    {
     "data": {
      "image/png": "[encoded data removed]",
      "text/plain": [
       "<Figure size 432x288 with 1 Axes>"
      ]
     },
     "metadata": {
      "needs_background": "light"
     },
     "output_type": "display_data"
    }
   ],
   "source": [
    "# Visualize Data\n",
    "pos = np.where(y == 1)\n",
    "neg = np.where(y == 0)\n",
    "\n",
    "plt.plot(X.iloc[pos[0]][0], X.iloc[pos[0]][1], 'k+', linewidth='2', markersize='7')\n",
    "plt.plot(X.iloc[neg[0]][0], X.iloc[neg[0]][1], 'ko', markerfacecolor='y', markersize='7')\n",
    "\n",
    "plt.xlabel('Exam 1 score')\n",
    "plt.ylabel('Exam 2 score')\n",
    "plt.legend(['Admitted', 'Not admitted'])\n",
    "plt.show()"
   ]
  },
  {
   "cell_type": "markdown",
   "id": "c3b1d150",
   "metadata": {},
   "source": [
    "### Logistic Regression Manual"
   ]
  },
  {
   "cell_type": "code",
   "execution_count": 259,
   "id": "b3b31493",
   "metadata": {},
   "outputs": [],
   "source": [
    "# Sigmoid Function\n",
    "def sigmoid(z):\n",
    "    g = 1 / (1 + np.exp(-z))\n",
    "    return g"
   ]
  },
  {
   "cell_type": "code",
   "execution_count": 260,
   "id": "f3bc78f5",
   "metadata": {},
   "outputs": [
    {
     "data": {
      "text/plain": [
       "array([0.26894142, 0.5       , 0.73105858])"
      ]
     },
     "execution_count": 260,
     "metadata": {},
     "output_type": "execute_result"
    }
   ],
   "source": [
    "# Check Sigmoid Function\n",
    "sigmoid(np.array([-1, 0, 1]))"
   ]
  },
  {
   "cell_type": "code",
   "execution_count": 261,
   "id": "b21839b3",
   "metadata": {},
   "outputs": [],
   "source": [
    "def costFunction(theta, X, y):\n",
    "    h = sigmoid(X.dot(theta))\n",
    "      \n",
    "    J = 1/m * (-y.T.dot(np.log(h)) - (1-y).T.dot(np.log(1-h)));\n",
    "    grad = (1/m) * X.T.dot(h - y)\n",
    "    return J, grad"
   ]
  },
  {
   "cell_type": "code",
   "execution_count": 262,
   "id": "d9c665f6",
   "metadata": {},
   "outputs": [],
   "source": [
    "# Initialize the Data\n",
    "[m, n] = X.shape\n",
    "\n",
    "# Add intercept term to X\n",
    "X_b = np.c_[np.ones((m, 1)), X]\n",
    "\n",
    "# Initialize zero theta\n",
    "zero_theta = np.zeros((n + 1, 1))"
   ]
  },
  {
   "cell_type": "code",
   "execution_count": 263,
   "id": "33183e94",
   "metadata": {},
   "outputs": [
    {
     "name": "stdout",
     "output_type": "stream",
     "text": [
      "Cost at initial theta (zeros):\t0.6931471805599452\n"
     ]
    }
   ],
   "source": [
    "[z_cost, z_grad] = costFunction(zero_theta, X_b, y)\n",
    "print(\"Cost at initial theta (zeros):\\t{}\".format(z_cost.iloc[0][0]))"
   ]
  },
  {
   "cell_type": "code",
   "execution_count": 264,
   "id": "b93d177d",
   "metadata": {},
   "outputs": [
    {
     "name": "stdout",
     "output_type": "stream",
     "text": [
      "Gradient at initial theta (zeros):\n",
      "\tTheta_0: -0.1\t\n",
      "\tTheta_1: -12.009216589291153\n",
      "\tTheta_3: -11.262842205513593\n"
     ]
    }
   ],
   "source": [
    "print(\"Gradient at initial theta (zeros):\\n\\tTheta_0: {}\\t\\n\\tTheta_1: {}\\n\\tTheta_3: {}\"\n",
    "      .format(z_grad[0][0], z_grad[1][0], z_grad[2][0]))"
   ]
  },
  {
   "cell_type": "code",
   "execution_count": 267,
   "id": "175f301a",
   "metadata": {},
   "outputs": [
    {
     "name": "stdout",
     "output_type": "stream",
     "text": [
      "Cost at initial theta (non-zero):\t0.21833019382659793\n"
     ]
    }
   ],
   "source": [
    "# Compute and display cost and gradient with non-zero theta\n",
    "non_zero_theta = np.array([[-24], [0.2], [0.2]])\n",
    "[nz_cost, nz_grad] = costFunction(non_zero_theta, X_b, y)\n",
    "\n",
    "print(\"Cost at initial theta (non-zero):\\t{}\".format(nz_cost.iloc[0][0]))"
   ]
  },
  {
   "cell_type": "code",
   "execution_count": 268,
   "id": "f124b55b",
   "metadata": {},
   "outputs": [
    {
     "name": "stdout",
     "output_type": "stream",
     "text": [
      "Gradient at initial theta (non-zero):\n",
      "\tTheta_0: 0.0429029948995345\t\n",
      "\tTheta_1: 2.5662341155107584\n",
      "\tTheta_3: 2.6467973710824357\n"
     ]
    }
   ],
   "source": [
    "print(\"Gradient at initial theta (non-zero):\\n\\tTheta_0: {}\\t\\n\\tTheta_1: {}\\n\\tTheta_3: {}\"\n",
    "      .format(nz_grad[0][0], nz_grad[1][0], nz_grad[2][0]))"
   ]
  },
  {
   "cell_type": "markdown",
   "id": "11a636b9",
   "metadata": {},
   "source": [
    "## Sklearn Logistic Regression "
   ]
  },
  {
   "cell_type": "code",
   "execution_count": 231,
   "id": "d5722144",
   "metadata": {},
   "outputs": [
    {
     "data": {
      "text/plain": [
       "(array([[0.20535491, 0.2005838 ]]), array([-25.05219314]))"
      ]
     },
     "execution_count": 231,
     "metadata": {},
     "output_type": "execute_result"
    }
   ],
   "source": [
    "y = data.iloc[:, 2]\n",
    "# Logistic Regression using sklearn\n",
    "from sklearn.linear_model import LogisticRegression\n",
    "\n",
    "log_reg = LogisticRegression()\n",
    "log_reg.fit(X, y)\n",
    "log_reg.coef_, log_reg.intercept_"
   ]
  },
  {
   "cell_type": "code",
   "execution_count": null,
   "id": "5060369c",
   "metadata": {},
   "outputs": [],
   "source": []
  }
 ],
 "metadata": {
  "kernelspec": {
   "display_name": "Python 3 (ipykernel)",
   "language": "python",
   "name": "python3"
  },
  "language_info": {
   "codemirror_mode": {
    "name": "ipython",
    "version": 3
   },
   "file_extension": ".py",
   "mimetype": "text/x-python",
   "name": "python",
   "nbconvert_exporter": "python",
   "pygments_lexer": "ipython3",
   "version": "3.9.7"
  }
 },
 "nbformat": 4,
 "nbformat_minor": 5
}
