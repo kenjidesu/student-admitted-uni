{
 "cells": [
  {
   "cell_type": "code",
   "execution_count": 1,
   "id": "53cd018e",
   "metadata": {},
   "outputs": [],
   "source": [
    "import numpy as np\n",
    "import pandas as pd\n",
    "import matplotlib.pyplot as plt\n",
    "%matplotlib inline\n",
    "from sklearn.linear_model import LogisticRegression"
   ]
  },
  {
   "cell_type": "markdown",
   "id": "955e880f",
   "metadata": {},
   "source": [
    "# Load Data"
   ]
  },
  {
   "cell_type": "code",
   "execution_count": 2,
   "id": "68320a0a",
   "metadata": {
    "scrolled": true
   },
   "outputs": [
    {
     "data": {
      "text/html": [
       "<div>\n",
       "<style scoped>\n",
       "    .dataframe tbody tr th:only-of-type {\n",
       "        vertical-align: middle;\n",
       "    }\n",
       "\n",
       "    .dataframe tbody tr th {\n",
       "        vertical-align: top;\n",
       "    }\n",
       "\n",
       "    .dataframe thead th {\n",
       "        text-align: right;\n",
       "    }\n",
       "</style>\n",
       "<table border=\"1\" class=\"dataframe\">\n",
       "  <thead>\n",
       "    <tr style=\"text-align: right;\">\n",
       "      <th></th>\n",
       "      <th>0</th>\n",
       "      <th>1</th>\n",
       "      <th>2</th>\n",
       "    </tr>\n",
       "  </thead>\n",
       "  <tbody>\n",
       "    <tr>\n",
       "      <th>0</th>\n",
       "      <td>34.623660</td>\n",
       "      <td>78.024693</td>\n",
       "      <td>0</td>\n",
       "    </tr>\n",
       "    <tr>\n",
       "      <th>1</th>\n",
       "      <td>30.286711</td>\n",
       "      <td>43.894998</td>\n",
       "      <td>0</td>\n",
       "    </tr>\n",
       "    <tr>\n",
       "      <th>2</th>\n",
       "      <td>35.847409</td>\n",
       "      <td>72.902198</td>\n",
       "      <td>0</td>\n",
       "    </tr>\n",
       "    <tr>\n",
       "      <th>3</th>\n",
       "      <td>60.182599</td>\n",
       "      <td>86.308552</td>\n",
       "      <td>1</td>\n",
       "    </tr>\n",
       "    <tr>\n",
       "      <th>4</th>\n",
       "      <td>79.032736</td>\n",
       "      <td>75.344376</td>\n",
       "      <td>1</td>\n",
       "    </tr>\n",
       "  </tbody>\n",
       "</table>\n",
       "</div>"
      ],
      "text/plain": [
       "           0          1  2\n",
       "0  34.623660  78.024693  0\n",
       "1  30.286711  43.894998  0\n",
       "2  35.847409  72.902198  0\n",
       "3  60.182599  86.308552  1\n",
       "4  79.032736  75.344376  1"
      ]
     },
     "execution_count": 2,
     "metadata": {},
     "output_type": "execute_result"
    }
   ],
   "source": [
    "# Load Data\n",
    "data = pd.read_csv('data1.txt', header=None)\n",
    "X = data.iloc[:, [0, 1]]\n",
    "y = data.iloc[:, [2]]\n",
    "\n",
    "data.head()"
   ]
  },
  {
   "cell_type": "markdown",
   "id": "90ac08e9",
   "metadata": {},
   "source": [
    "### Plot Data"
   ]
  },
  {
   "cell_type": "code",
   "execution_count": 3,
   "id": "4a8e4497",
   "metadata": {},
   "outputs": [],
   "source": [
    "def plotData(X, y):\n",
    "    # Visualize Data\n",
    "    pos = np.where(y == 1)\n",
    "    neg = np.where(y == 0)\n",
    "\n",
    "    plt.plot(X.iloc[pos[0]][0], X.iloc[pos[0]][1], 'k+', linewidth='2', markersize='7')\n",
    "    plt.plot(X.iloc[neg[0]][0], X.iloc[neg[0]][1], 'ko', markerfacecolor='y', markersize='7')"
   ]
  },
  {
   "cell_type": "code",
   "execution_count": 4,
   "id": "8f0a2d40",
   "metadata": {},
   "outputs": [
    {
     "data": {
      "image/png": "[encoded data removed]",
      "text/plain": [
       "<Figure size 432x288 with 1 Axes>"
      ]
     },
     "metadata": {
      "needs_background": "light"
     },
     "output_type": "display_data"
    }
   ],
   "source": [
    "# plot the data\n",
    "plotData(X, y)\n",
    "plt.xlabel('Exam 1 score')\n",
    "plt.ylabel('Exam 2 score')\n",
    "plt.legend(['Admitted', 'Not admitted'])\n",
    "plt.show()"
   ]
  },
  {
   "cell_type": "markdown",
   "id": "dfe41898",
   "metadata": {},
   "source": [
    "# Implemented Logistic Regression"
   ]
  },
  {
   "cell_type": "code",
   "execution_count": 5,
   "id": "128ee7ee",
   "metadata": {},
   "outputs": [],
   "source": [
    "# Sigmoid Function\n",
    "def sigmoid(z):\n",
    "    g = 1 / (1 + np.exp(-z))\n",
    "    return g"
   ]
  },
  {
   "cell_type": "code",
   "execution_count": 6,
   "id": "2076f16d",
   "metadata": {},
   "outputs": [
    {
     "data": {
      "text/plain": [
       "array([0.26894142, 0.5       , 0.73105858])"
      ]
     },
     "execution_count": 6,
     "metadata": {},
     "output_type": "execute_result"
    }
   ],
   "source": [
    "# Sigmoid Function Check\n",
    "sigmoid(np.array([-1, 0, 1]))"
   ]
  },
  {
   "cell_type": "markdown",
   "id": "baf865fa",
   "metadata": {},
   "source": [
    "### Cost Function"
   ]
  },
  {
   "cell_type": "code",
   "execution_count": 7,
   "id": "68467121",
   "metadata": {},
   "outputs": [],
   "source": [
    "def costFunction(theta, X, y):\n",
    "    # map predicted values to probabilities, between 1 and 0\n",
    "    h = sigmoid(X.dot(theta))\n",
    "    \n",
    "    # Cost function of Logistic Regression\n",
    "    J = 1/m * (-y.T.dot(np.log(h)) - (1-y).T.dot(np.log(1-h)))\n",
    "    # Optimize the cost function\n",
    "    grad = (1/m) * X.T.dot(h - y)\n",
    "    return J, grad"
   ]
  },
  {
   "cell_type": "code",
   "execution_count": 8,
   "id": "a6730e1b",
   "metadata": {},
   "outputs": [],
   "source": [
    "[m, n] = X.shape\n",
    "# Add intercept term to X\n",
    "X_b = np.c_[np.ones((m, 1)), X]\n",
    "# Initialize zero theta\n",
    "zero_theta = np.zeros((n + 1, 1))"
   ]
  },
  {
   "cell_type": "markdown",
   "id": "6056afd3",
   "metadata": {},
   "source": [
    "### Compute Cost Function and Gradient using the Implemented Gradient Descent"
   ]
  },
  {
   "cell_type": "code",
   "execution_count": 9,
   "id": "ba9161b8",
   "metadata": {
    "scrolled": true
   },
   "outputs": [
    {
     "name": "stdout",
     "output_type": "stream",
     "text": [
      "Cost at initial theta (zeros):\t0.6931471805599452\n"
     ]
    }
   ],
   "source": [
    "# Cost function for all theta zero\n",
    "[z_cost, z_grad] = costFunction(zero_theta, X_b, y)\n",
    "print(\"Cost at initial theta (zeros):\\t{}\".format(z_cost.iloc[0][0]))"
   ]
  },
  {
   "cell_type": "code",
   "execution_count": 10,
   "id": "1c6e9e16",
   "metadata": {},
   "outputs": [
    {
     "name": "stdout",
     "output_type": "stream",
     "text": [
      "Gradient at initial theta (zeros):\n",
      "\tTheta_0: -0.1\t\n",
      "\tTheta_1: -12.009216589291153\n",
      "\tTheta_3: -11.262842205513593\n"
     ]
    }
   ],
   "source": [
    "# Gradient for all theta zero\n",
    "print(\"Gradient at initial theta (zeros):\\n\\tTheta_0: {}\\t\\n\\tTheta_1: {}\\n\\tTheta_3: {}\"\n",
    "      .format(z_grad[0][0], z_grad[1][0], z_grad[2][0]))"
   ]
  },
  {
   "cell_type": "code",
   "execution_count": 11,
   "id": "ff5a2f19",
   "metadata": {},
   "outputs": [
    {
     "name": "stdout",
     "output_type": "stream",
     "text": [
      "Cost at initial theta (non-zero):\t0.21833019382659793\n"
     ]
    }
   ],
   "source": [
    "# Compute and display cost and gradient with non-zero theta\n",
    "non_zero_theta = np.array([[-24], [0.2], [0.2]])\n",
    "[nz_cost, nz_grad] = costFunction(non_zero_theta, X_b, y)\n",
    "\n",
    "print(\"Cost at initial theta (non-zero):\\t{}\".format(nz_cost.iloc[0][0]))"
   ]
  },
  {
   "cell_type": "code",
   "execution_count": 12,
   "id": "16d44a2f",
   "metadata": {},
   "outputs": [
    {
     "name": "stdout",
     "output_type": "stream",
     "text": [
      "Gradient at initial theta (non-zero):\n",
      "\tTheta_0: 0.0429029948995345\t\n",
      "\tTheta_1: 2.5662341155107584\n",
      "\tTheta_3: 2.6467973710824357\n"
     ]
    }
   ],
   "source": [
    "# Gradient for non-zero theta\n",
    "print(\"Gradient at initial theta (non-zero):\\n\\tTheta_0: {}\\t\\n\\tTheta_1: {}\\n\\tTheta_3: {}\"\n",
    "      .format(nz_grad[0][0], nz_grad[1][0], nz_grad[2][0]))"
   ]
  },
  {
   "cell_type": "markdown",
   "id": "4b356f2d",
   "metadata": {},
   "source": [
    "# Sklearn Logistic Regression"
   ]
  },
  {
   "cell_type": "code",
   "execution_count": 13,
   "id": "06638e29",
   "metadata": {
    "scrolled": true
   },
   "outputs": [
    {
     "name": "stdout",
     "output_type": "stream",
     "text": [
      "Gradient at initial theta (non-zero):\n",
      "\tTheta_0: -25.052193143127436\t\n",
      "\tTheta_1: 0.20535491218577973\n",
      "\tTheta_3: 0.20058380395530137\n"
     ]
    }
   ],
   "source": [
    "# Sklearn Logistic Regression\n",
    "y = data.iloc[:, 2]\n",
    "log_reg = LogisticRegression()\n",
    "log_reg.fit(X, y)\n",
    "sk_grad = np.c_[log_reg.intercept_, log_reg.coef_[0][0], log_reg.coef_[0][1]]\n",
    "sk_grad = sk_grad.T\n",
    "\n",
    "print(\"Gradient at initial theta (non-zero):\\n\\tTheta_0: {}\\t\\n\\tTheta_1: {}\\n\\tTheta_3: {}\"\n",
    "      .format(sk_grad[0][0], sk_grad[1][0], sk_grad[2][0]))"
   ]
  },
  {
   "cell_type": "markdown",
   "id": "000bb7c6",
   "metadata": {},
   "source": [
    "# Plot Decision Boundary"
   ]
  },
  {
   "cell_type": "code",
   "execution_count": 14,
   "id": "35067a59",
   "metadata": {},
   "outputs": [
    {
     "data": {
      "image/png": "[encoded data removed]",
      "text/plain": [
       "<Figure size 432x288 with 1 Axes>"
      ]
     },
     "metadata": {
      "needs_background": "light"
     },
     "output_type": "display_data"
    }
   ],
   "source": [
    "# Plot Decision Boundary\n",
    "plotData(X, y)\n",
    "plot_x = np.c_[(X.iloc[:, 0].min())-2, (X.iloc[:, 0].max())+2]\n",
    "plot_y = (-1 / sk_grad[2][0]) * (sk_grad[1][0] * plot_x  + sk_grad[0][0])\n",
    "\n",
    "plt.plot(plot_x[0], plot_y[0], '-')\n",
    "plt.legend(['Admitted', 'Not admitted', 'Decision Boundary'])\n",
    "plt.show()"
   ]
  },
  {
   "cell_type": "markdown",
   "id": "517be0ec",
   "metadata": {},
   "source": [
    "# Prediction and Accuracy"
   ]
  },
  {
   "cell_type": "code",
   "execution_count": 15,
   "id": "0a037b7e",
   "metadata": {},
   "outputs": [
    {
     "name": "stdout",
     "output_type": "stream",
     "text": [
      "For a student with scores 45 and 85, we predict an admission probability of: 0.8646506077702494\n",
      "Predicted: 1\tAdmitted!\n"
     ]
    }
   ],
   "source": [
    "# Predict 48 and 85 if Admitted or Not\n",
    "X_t = np.array([[48, 85]])\n",
    "predict = log_reg.predict(X_t)[0]\n",
    "\n",
    "# Add bias term\n",
    "X_t = np.c_[1, X_t]\n",
    "prob = sigmoid(X_t.dot(sk_grad))\n",
    "\n",
    "print(\"For a student with scores 45 and 85, we predict an admission probability of: {}\".format(prob[0][0]))\n",
    "print(\"Predicted: {}\\tAdmitted!\".format(predict))"
   ]
  },
  {
   "cell_type": "code",
   "execution_count": 16,
   "id": "e9c4783a",
   "metadata": {},
   "outputs": [
    {
     "name": "stdout",
     "output_type": "stream",
     "text": [
      "Train Accuracy: 0.89\n"
     ]
    }
   ],
   "source": [
    "print(\"Train Accuracy: {}\".format(log_reg.score(X, y)))"
   ]
  }
 ],
 "metadata": {
  "kernelspec": {
   "display_name": "Python 3 (ipykernel)",
   "language": "python",
   "name": "python3"
  },
  "language_info": {
   "codemirror_mode": {
    "name": "ipython",
    "version": 3
   },
   "file_extension": ".py",
   "mimetype": "text/x-python",
   "name": "python",
   "nbconvert_exporter": "python",
   "pygments_lexer": "ipython3",
   "version": "3.9.7"
  }
 },
 "nbformat": 4,
 "nbformat_minor": 5
}
